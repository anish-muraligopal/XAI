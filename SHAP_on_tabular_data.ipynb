{
  "nbformat": 4,
  "nbformat_minor": 0,
  "metadata": {
    "colab": {
      "provenance": []
    },
    "kernelspec": {
      "name": "python3",
      "display_name": "Python 3"
    },
    "language_info": {
      "name": "python"
    }
  },
  "cells": [
    {
      "cell_type": "markdown",
      "source": [
        "## Install libraries"
      ],
      "metadata": {
        "id": "qd5ByGMXEbvU"
      }
    },
    {
      "cell_type": "code",
      "source": [
        "pip install shap xgboost"
      ],
      "metadata": {
        "id": "QRVya0BErnaq"
      },
      "execution_count": null,
      "outputs": []
    },
    {
      "cell_type": "code",
      "source": [
        "pip install plotly"
      ],
      "metadata": {
        "id": "iOmS6tELDOYH"
      },
      "execution_count": null,
      "outputs": []
    },
    {
      "cell_type": "markdown",
      "source": [
        "## Import libraries"
      ],
      "metadata": {
        "id": "aOI5O94dEfVB"
      }
    },
    {
      "cell_type": "code",
      "execution_count": null,
      "metadata": {
        "id": "L4n6azAVrH8a"
      },
      "outputs": [],
      "source": [
        "import matplotlib.pylab as pl\n",
        "import numpy as np\n",
        "import xgboost\n",
        "from sklearn.model_selection import train_test_split\n",
        "import shap\n",
        "\n",
        "# print the JS visualization code to the notebook\n",
        "shap.initjs()"
      ]
    },
    {
      "cell_type": "markdown",
      "source": [
        "## Import dataset"
      ],
      "metadata": {
        "id": "cnHd_vWQEjxq"
      }
    },
    {
      "cell_type": "code",
      "source": [
        "X, y = shap.datasets.adult()\n",
        "X_display, y_display = shap.datasets.adult(display=True)"
      ],
      "metadata": {
        "id": "8DOLef-ArSc_"
      },
      "execution_count": null,
      "outputs": []
    },
    {
      "cell_type": "code",
      "source": [
        "print(X_display)"
      ],
      "metadata": {
        "id": "dN9toKWwVMnn"
      },
      "execution_count": null,
      "outputs": []
    },
    {
      "cell_type": "code",
      "source": [
        "print(y_display)"
      ],
      "metadata": {
        "id": "nM5daSXlVgTJ"
      },
      "execution_count": null,
      "outputs": []
    },
    {
      "cell_type": "markdown",
      "source": [
        "## Create test-train split"
      ],
      "metadata": {
        "id": "wasZq8qVEpOH"
      }
    },
    {
      "cell_type": "code",
      "source": [
        "# create a train/test split\n",
        "X_train, X_test, y_train, y_test = train_test_split(X, y, test_size=0.2, random_state=7)\n",
        "d_train = xgboost.DMatrix(X_train, label=y_train)\n",
        "d_test = xgboost.DMatrix(X_test, label=y_test)"
      ],
      "metadata": {
        "id": "Z2WToM_MErF2"
      },
      "execution_count": null,
      "outputs": []
    },
    {
      "cell_type": "code",
      "source": [
        "print(X.shape)"
      ],
      "metadata": {
        "id": "Py91fo9vZrX4"
      },
      "execution_count": null,
      "outputs": []
    },
    {
      "cell_type": "code",
      "source": [
        "print(X_train)"
      ],
      "metadata": {
        "id": "nNovMYHcMHcj"
      },
      "execution_count": null,
      "outputs": []
    },
    {
      "cell_type": "code",
      "source": [
        "print(X_train.shape)"
      ],
      "metadata": {
        "id": "0Cg6XSLRMMWS"
      },
      "execution_count": null,
      "outputs": []
    },
    {
      "cell_type": "markdown",
      "source": [
        "## Define parameters for xgboost"
      ],
      "metadata": {
        "id": "OiusHSe1Er95"
      }
    },
    {
      "cell_type": "code",
      "source": [
        "params = {\n",
        "    \"eta\": 0.01,\n",
        "    \"objective\": \"binary:logistic\",\n",
        "    \"subsample\": 0.5,\n",
        "    \"base_score\": np.mean(y_train),\n",
        "    \"eval_metric\": \"logloss\",\n",
        "}\n",
        "model = xgboost.train(\n",
        "    params,\n",
        "    d_train,\n",
        "    5000,\n",
        "    evals=[(d_test, \"test\")],\n",
        "    verbose_eval=100,\n",
        "    early_stopping_rounds=20,\n",
        ")"
      ],
      "metadata": {
        "id": "KYFeLZM6rSwA"
      },
      "execution_count": null,
      "outputs": []
    },
    {
      "cell_type": "markdown",
      "source": [
        "## Print accuracy"
      ],
      "metadata": {
        "id": "-KIjehyiMfPh"
      }
    },
    {
      "cell_type": "code",
      "source": [
        "from sklearn.metrics import accuracy_score\n",
        "\n",
        "# Make predictions\n",
        "y_pred_prob = model.predict(d_test)\n",
        "y_pred = (y_pred_prob > 0.5).astype(int)\n",
        "\n",
        "# Calculate accuracy\n",
        "accuracy = accuracy_score(y_test, y_pred)\n",
        "print(f\"Accuracy: {accuracy * 100:.2f}%\")"
      ],
      "metadata": {
        "id": "-wnX8qwlMZhB"
      },
      "execution_count": null,
      "outputs": []
    },
    {
      "cell_type": "markdown",
      "source": [
        "## Weight metric"
      ],
      "metadata": {
        "id": "BF3MVc81ZMrZ"
      }
    },
    {
      "cell_type": "code",
      "source": [
        "xgboost.plot_importance(model,importance_type=\"weight\")\n",
        "pl.title(\"xgboost.plot_importance(model)\")\n",
        "pl.show()"
      ],
      "metadata": {
        "id": "YEtcYVxyrUmI"
      },
      "execution_count": null,
      "outputs": []
    },
    {
      "cell_type": "markdown",
      "source": [
        "## Cover feature"
      ],
      "metadata": {
        "id": "imxKwEBeNaKc"
      }
    },
    {
      "cell_type": "code",
      "source": [
        "#The \"cover\" metric measures the coverage of a feature, which is the number of\n",
        "#samples or observations that are affected by splits involving that feature.\n",
        "#Essentially, it represents how frequently a feature is used to partition\n",
        "#the data and how many data points fall into those partitions.\n",
        "\n",
        "xgboost.plot_importance(model, importance_type=\"cover\")\n",
        "pl.title('xgboost.plot_importance(model, importance_type=\"cover\")')\n",
        "pl.show()"
      ],
      "metadata": {
        "id": "PJq6j2qPrWDq"
      },
      "execution_count": null,
      "outputs": []
    },
    {
      "cell_type": "markdown",
      "source": [
        "## Gain feature"
      ],
      "metadata": {
        "id": "T9ARwCxRNXtZ"
      }
    },
    {
      "cell_type": "code",
      "source": [
        "#Gain represents the improvement in the objective function (such as accuracy or log loss)\n",
        "#that a feature provides when it is used in a split. It quantifies the\n",
        "#contribution of a feature to the model's performance.\n",
        "\n",
        "xgboost.plot_importance(model, importance_type=\"gain\")\n",
        "pl.title('xgboost.plot_importance(model, importance_type=\"gain\")')\n",
        "pl.show()"
      ],
      "metadata": {
        "id": "pqLjT42KrYWM"
      },
      "execution_count": null,
      "outputs": []
    },
    {
      "cell_type": "markdown",
      "source": [
        "## SHAP explainer"
      ],
      "metadata": {
        "id": "Z_lnaOXqNkZn"
      }
    },
    {
      "cell_type": "code",
      "source": [
        "# This takes 5-6 minutes since we are explaining over 30\n",
        "#thousand samples in a model with over a thousand trees\n",
        "explainer = shap.TreeExplainer(model)\n",
        "shap_values = explainer.shap_values(X)"
      ],
      "metadata": {
        "id": "T6ePhPH_rZ13"
      },
      "execution_count": null,
      "outputs": []
    },
    {
      "cell_type": "markdown",
      "source": [
        "## SHAP force plot"
      ],
      "metadata": {
        "id": "4NJSiaEHNmoc"
      }
    },
    {
      "cell_type": "code",
      "source": [
        "import plotly.io as pio\n",
        "\n",
        "# Set the default renderer for Plotly to 'colab'\n",
        "pio.renderers.default = 'colab'\n",
        "\n",
        "# print the JS visualization code to the notebook\n",
        "shap.initjs()  # Ensure this line is uncommented\n",
        "\n",
        "shap.force_plot(explainer.expected_value, shap_values[100, :], X_display.iloc[100, :])"
      ],
      "metadata": {
        "id": "hSSjsV-PrcGP"
      },
      "execution_count": null,
      "outputs": []
    },
    {
      "cell_type": "code",
      "source": [
        "# Set the default renderer for Plotly to 'colab'\n",
        "pio.renderers.default = 'colab'\n",
        "\n",
        "# print the JS visualization code to the notebook\n",
        "shap.initjs()  # Ensure this line is uncommented\n",
        "\n",
        "shap.force_plot(\n",
        "    explainer.expected_value, shap_values[:1000, :], X_display.iloc[:1000, :]\n",
        ")"
      ],
      "metadata": {
        "id": "ACAvUoUirdB2"
      },
      "execution_count": null,
      "outputs": []
    },
    {
      "cell_type": "markdown",
      "source": [
        "## SHAP summary plot"
      ],
      "metadata": {
        "id": "V3ZiHvNGNqrR"
      }
    },
    {
      "cell_type": "code",
      "source": [
        "shap.summary_plot(shap_values, X_display, plot_type=\"bar\")"
      ],
      "metadata": {
        "id": "ynj80wFZreTi"
      },
      "execution_count": null,
      "outputs": []
    },
    {
      "cell_type": "code",
      "source": [
        "shap.summary_plot(shap_values, X)"
      ],
      "metadata": {
        "id": "wSqaqmVprfeR"
      },
      "execution_count": null,
      "outputs": []
    },
    {
      "cell_type": "markdown",
      "source": [
        "## SHAP dependence plot"
      ],
      "metadata": {
        "id": "UFGybdjnNuFr"
      }
    },
    {
      "cell_type": "code",
      "source": [
        "for name in X_train.columns:\n",
        "    shap.dependence_plot(name, shap_values, X, display_features=X_display)"
      ],
      "metadata": {
        "id": "y1YZ3gOCrgpl"
      },
      "execution_count": null,
      "outputs": []
    }
  ]
}