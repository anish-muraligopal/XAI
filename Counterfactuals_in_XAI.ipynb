{
  "nbformat": 4,
  "nbformat_minor": 0,
  "metadata": {
    "colab": {
      "provenance": []
    },
    "kernelspec": {
      "name": "python3",
      "display_name": "Python 3"
    },
    "language_info": {
      "name": "python"
    }
  },
  "cells": [
    {
      "cell_type": "markdown",
      "source": [
        "## Install libraries"
      ],
      "metadata": {
        "id": "X_gwg9m3pVd0"
      }
    },
    {
      "cell_type": "code",
      "source": [
        "# pip install torch"
      ],
      "metadata": {
        "id": "vT_noQQAUDUl"
      },
      "execution_count": null,
      "outputs": []
    },
    {
      "cell_type": "code",
      "source": [
        "# pip install dice-ml"
      ],
      "metadata": {
        "id": "za8I-jakfHHq"
      },
      "execution_count": null,
      "outputs": []
    },
    {
      "cell_type": "markdown",
      "source": [
        "Import libraries"
      ],
      "metadata": {
        "id": "W_Pr8mUspXis"
      }
    },
    {
      "cell_type": "code",
      "execution_count": null,
      "metadata": {
        "id": "otFbnYp4TsAw"
      },
      "outputs": [],
      "source": [
        "# %% Imports\n",
        "from torch.utils.data import DataLoader\n",
        "from sklearn.ensemble import RandomForestClassifier\n",
        "from sklearn.metrics import f1_score, accuracy_score\n",
        "\n",
        "import pandas as pd\n",
        "from sklearn.model_selection import train_test_split\n",
        "from imblearn.over_sampling import SMOTE"
      ]
    },
    {
      "cell_type": "code",
      "source": [
        "# path = '/content/data/healthcare-dataset-stroke-data.csv'"
      ],
      "metadata": {
        "id": "rHyys_EAwCLb"
      },
      "execution_count": null,
      "outputs": []
    },
    {
      "cell_type": "markdown",
      "source": [
        "## Load the data"
      ],
      "metadata": {
        "id": "VOZL5p3DpgIO"
      }
    },
    {
      "cell_type": "code",
      "source": [
        "# %% Custom DataLoader\n",
        "class CustomDataLoader:\n",
        "    def __init__(self, filepath):\n",
        "        self.filepath = filepath\n",
        "        self.data = None\n",
        "\n",
        "    def load_dataset(self):\n",
        "        self.data = pd.read_csv(self.filepath)\n",
        "\n",
        "    def preprocess_data(self):\n",
        "        # Implement your preprocessing here\n",
        "        self.data.dropna(inplace=True)\n",
        "        self.data = pd.get_dummies(self.data)\n",
        "\n",
        "    def get_data_split(self, test_size=0.2, random_state=42):\n",
        "        X = self.data.drop('stroke', axis=1)\n",
        "        y = self.data['stroke']\n",
        "        return train_test_split(X, y, test_size=test_size, random_state=random_state)\n",
        "\n",
        "    def oversample(self, X_train, y_train):\n",
        "        smote = SMOTE(random_state=42)\n",
        "        X_res, y_res = smote.fit_resample(X_train, y_train)\n",
        "        return X_res, y_res\n",
        "\n",
        "# %% Load and preprocess data\n",
        "data_loader = CustomDataLoader('/content/data/healthcare-dataset-stroke-data.csv')\n",
        "data_loader.load_dataset()\n",
        "data_loader.preprocess_data()"
      ],
      "metadata": {
        "id": "s5dgi1fETupg"
      },
      "execution_count": null,
      "outputs": []
    },
    {
      "cell_type": "markdown",
      "source": [
        "## Train-Test data split"
      ],
      "metadata": {
        "id": "UibeeMVBpeJH"
      }
    },
    {
      "cell_type": "code",
      "source": [
        "# Split the data for evaluation\n",
        "X_train, X_test, y_train, y_test = data_loader.get_data_split()\n",
        "\n",
        "# Oversample the train data\n",
        "X_train, y_train = data_loader.oversample(X_train, y_train)\n",
        "\n",
        "\n",
        "y_test = y_test.reset_index(drop=True)\n",
        "X_test = X_test.reset_index(drop=True)\n",
        "y_train = y_train.reset_index(drop=True)\n",
        "X_train = X_train.reset_index(drop=True)\n"
      ],
      "metadata": {
        "id": "Z1QyUo3Ipd3B"
      },
      "execution_count": null,
      "outputs": []
    },
    {
      "cell_type": "markdown",
      "source": [
        "## Random Forest Classifier"
      ],
      "metadata": {
        "id": "REIL0PE2pixU"
      }
    },
    {
      "cell_type": "code",
      "source": [
        "# %% Fit blackbox model\n",
        "rf = RandomForestClassifier()\n",
        "rf.fit(X_train, y_train)\n",
        "y_pred = rf.predict(X_test)\n",
        "print(f\"F1 Score {f1_score(y_test, y_pred, average='macro')}\")\n",
        "print(f\"Accuracy {accuracy_score(y_test, y_pred)}\")"
      ],
      "metadata": {
        "id": "25FE2_jETxVj"
      },
      "execution_count": null,
      "outputs": []
    },
    {
      "cell_type": "code",
      "source": [
        "# Convert y_test and y_pred to pandas Series\n",
        "y_test_series = pd.Series(y_test)\n",
        "y_pred_series = pd.Series(y_pred)\n",
        "\n",
        "# Get indices where y_test and y_pred are 1\n",
        "test_indices = y_test_series[y_test_series == 1].index.tolist()\n",
        "pred_indices = y_pred_series[y_pred_series == 1].index.tolist()\n",
        "\n",
        "print(\"Test indices:\", test_indices)\n",
        "print(\"Prediction indices:\", pred_indices)"
      ],
      "metadata": {
        "id": "3b0faSKt7A3L"
      },
      "execution_count": null,
      "outputs": []
    },
    {
      "cell_type": "markdown",
      "source": [
        "## Create Counterfactual Explanations"
      ],
      "metadata": {
        "id": "huiKF-7VpndW"
      }
    },
    {
      "cell_type": "code",
      "source": [
        "# %% Create diverse counterfactual explanations\n",
        "import dice_ml\n",
        "\n",
        "# Dataset\n",
        "data_dice = dice_ml.Data(dataframe=data_loader.data,\n",
        "                         # For perturbation strategy\n",
        "                         continuous_features=['age',\n",
        "                                              'avg_glucose_level',\n",
        "                                              'bmi'],\n",
        "                         outcome_name='stroke')"
      ],
      "metadata": {
        "id": "TPkQhVj5Ty4s"
      },
      "execution_count": null,
      "outputs": []
    },
    {
      "cell_type": "markdown",
      "source": [
        "## Creating the Data and Model Objects for DiCE: (Diverse Counterfactual Explanations)"
      ],
      "metadata": {
        "id": "AIxxEtekqRu-"
      }
    },
    {
      "cell_type": "code",
      "source": [
        "# Model\n",
        "rf_dice = dice_ml.Model(model=rf,\n",
        "                        # There exist backends for tf, torch, ...\n",
        "                        backend=\"sklearn\")\n",
        "explainer = dice_ml.Dice(data_dice,\n",
        "                         rf_dice,\n",
        "                         # Random sampling, genetic algorithm, kd-tree,...\n",
        "                         method=\"random\")"
      ],
      "metadata": {
        "id": "vSNaS_8iT0V1"
      },
      "execution_count": null,
      "outputs": []
    },
    {
      "cell_type": "markdown",
      "source": [
        "## Generating and Visualizing Counterfactual Explanations:"
      ],
      "metadata": {
        "id": "BS22lZq3qPlj"
      }
    },
    {
      "cell_type": "markdown",
      "source": [],
      "metadata": {
        "id": "aKP8tHlWqPjT"
      }
    },
    {
      "cell_type": "code",
      "source": [
        "# %% Create explanation\n",
        "# Generate CF based on the blackbox model\n",
        "input_datapoint = X_test[10:11]\n",
        "\n",
        "cf = explainer.generate_counterfactuals(input_datapoint,\n",
        "                                  total_CFs=3,\n",
        "                                  desired_class=\"opposite\")"
      ],
      "metadata": {
        "id": "m286ldfsT1X9"
      },
      "execution_count": null,
      "outputs": []
    },
    {
      "cell_type": "code",
      "source": [
        "print(X_test[0:1])"
      ],
      "metadata": {
        "id": "2mc5-6LQxzpc"
      },
      "execution_count": null,
      "outputs": []
    },
    {
      "cell_type": "code",
      "source": [
        "# Visualize it\n",
        "# cf.visualize_as_dataframe(show_only_changes=False)\n",
        "\n",
        "cf.visualize_as_dataframe(show_only_changes=True)"
      ],
      "metadata": {
        "id": "5fk5wzWRT2Jg"
      },
      "execution_count": null,
      "outputs": []
    },
    {
      "cell_type": "markdown",
      "source": [
        "## Creating Feasible (Conditional) Counterfactuals"
      ],
      "metadata": {
        "id": "DCrzNz66qNXb"
      }
    },
    {
      "cell_type": "code",
      "source": [
        "# Get indices where age is above 70\n",
        "indices_above_70 = X_test[X_test['age'] > 70].index.tolist()\n",
        "\n",
        "print(\"Indices of people whose age is above 70:\", indices_above_70)"
      ],
      "metadata": {
        "id": "rlC9U2NtEJUt"
      },
      "execution_count": null,
      "outputs": []
    },
    {
      "cell_type": "code",
      "source": [
        "# %% Create feasible (conditional) Counterfactuals\n",
        "features_to_vary=['avg_glucose_level',\n",
        "                  'bmi',\n",
        "                  'smoking_status_smokes']\n",
        "permitted_range={'avg_glucose_level':[40,300],\n",
        "                'bmi':[15, 45]}\n",
        "\n",
        "i = 139\n",
        "\n",
        "input_datapoint2 = X_test[i:i+1]\n",
        "\n",
        "print(\"Label of test data: \", y_test[i])\n",
        "print(input_datapoint2.to_string(index=False))\n",
        "\n",
        "# Now generating explanations using the new feature weights\n",
        "\n",
        "cf = explainer.generate_counterfactuals(input_datapoint2,\n",
        "                                  total_CFs=10,\n",
        "                                  desired_class=\"opposite\",\n",
        "                                  permitted_range=permitted_range,\n",
        "                                  features_to_vary=features_to_vary)\n",
        "# Visualize it\n",
        "cf.visualize_as_dataframe(show_only_changes=True)"
      ],
      "metadata": {
        "id": "LvSl4-SeT28i"
      },
      "execution_count": null,
      "outputs": []
    },
    {
      "cell_type": "code",
      "source": [
        "print(y_test[i])"
      ],
      "metadata": {
        "id": "DPvhunDXDOwd"
      },
      "execution_count": null,
      "outputs": []
    },
    {
      "cell_type": "code",
      "source": [],
      "metadata": {
        "id": "ulW-eJt7T3p8"
      },
      "execution_count": null,
      "outputs": []
    },
    {
      "cell_type": "code",
      "source": [],
      "metadata": {
        "id": "0AUIW0VjAa7w"
      },
      "execution_count": null,
      "outputs": []
    }
  ]
}