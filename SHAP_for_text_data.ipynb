{
  "nbformat": 4,
  "nbformat_minor": 0,
  "metadata": {
    "colab": {
      "provenance": [],
      "gpuType": "T4"
    },
    "kernelspec": {
      "name": "python3",
      "display_name": "Python 3"
    },
    "language_info": {
      "name": "python"
    },
    "accelerator": "GPU"
  },
  "cells": [
    {
      "cell_type": "markdown",
      "source": [
        "## Install necessary libraries"
      ],
      "metadata": {
        "id": "T-bYXLnqI20U"
      }
    },
    {
      "cell_type": "code",
      "execution_count": null,
      "metadata": {
        "id": "UxwvAR-J9nzm"
      },
      "outputs": [],
      "source": [
        "pip install transformers shap datasets"
      ]
    },
    {
      "cell_type": "markdown",
      "source": [
        "## Import libraries"
      ],
      "metadata": {
        "id": "PpnYP-N6IyBT"
      }
    },
    {
      "cell_type": "code",
      "source": [
        "import datasets\n",
        "import numpy as np\n",
        "import transformers\n",
        "import shap"
      ],
      "metadata": {
        "id": "zNWJhTuH-fIX"
      },
      "execution_count": null,
      "outputs": []
    },
    {
      "cell_type": "markdown",
      "source": [
        "## Load dataset"
      ],
      "metadata": {
        "id": "5dKCFBLeJOTw"
      }
    },
    {
      "cell_type": "code",
      "source": [
        "dataset = datasets.load_dataset(\"imdb\", split=\"test\")\n",
        "\n",
        "# shorten the strings to fit into the pipeline model\n",
        "short_data = [v[:500] for v in dataset[\"text\"][:20]]"
      ],
      "metadata": {
        "id": "Yqy7li4L9t5l"
      },
      "execution_count": null,
      "outputs": []
    },
    {
      "cell_type": "code",
      "source": [
        "print(dataset[0][\"text\"])"
      ],
      "metadata": {
        "id": "c41O29PT8qY2"
      },
      "execution_count": null,
      "outputs": []
    },
    {
      "cell_type": "code",
      "source": [
        "print(short_data[0])"
      ],
      "metadata": {
        "id": "aZ81hlZhCyy9"
      },
      "execution_count": null,
      "outputs": []
    },
    {
      "cell_type": "markdown",
      "source": [
        "## Display the dataset"
      ],
      "metadata": {
        "id": "b-vdwDUDJUTf"
      }
    },
    {
      "cell_type": "code",
      "source": [
        "import pandas as pd\n",
        "\n",
        "# Create a pandas dataframe\n",
        "df = pd.DataFrame(short_data)\n",
        "\n",
        "# Display the head of the dataframe\n",
        "print(df)"
      ],
      "metadata": {
        "id": "EJ4fxm6M-9ES"
      },
      "execution_count": null,
      "outputs": []
    },
    {
      "cell_type": "markdown",
      "source": [
        "## Defining the NLP pipeline"
      ],
      "metadata": {
        "id": "haXTUUoPKCvZ"
      }
    },
    {
      "cell_type": "code",
      "source": [
        "classifier = transformers.pipeline(\"sentiment-analysis\", return_all_scores=True)"
      ],
      "metadata": {
        "id": "JyPufEFc-H_C"
      },
      "execution_count": null,
      "outputs": []
    },
    {
      "cell_type": "code",
      "source": [
        "# Example texts for sentiment analysis\n",
        "texts = [\"I love this movie! It was the best movie of all time\", \"I liked the first half but did not like the second half.\"]\n",
        "\n",
        "# Perform sentiment analysis\n",
        "results = classifier(texts)\n",
        "\n",
        "print(results)"
      ],
      "metadata": {
        "id": "XyJ1dl3n_GyY"
      },
      "execution_count": null,
      "outputs": []
    },
    {
      "cell_type": "markdown",
      "source": [
        "## Sentiment Analysis for first few data points"
      ],
      "metadata": {
        "id": "saIQ_rPyKXpe"
      }
    },
    {
      "cell_type": "code",
      "source": [
        "print(\"1: \", short_data[0],\"\\n\")\n",
        "print(\"2: \", short_data[1],\"\\n\")\n",
        "print(\"3: \",short_data[2],\"\\n\")\n",
        "print(\"\\n\")\n",
        "print(classifier(short_data[:3]))"
      ],
      "metadata": {
        "id": "vmytw8zsKOWX"
      },
      "execution_count": null,
      "outputs": []
    },
    {
      "cell_type": "markdown",
      "source": [
        "## Find the model accuracy"
      ],
      "metadata": {
        "id": "l10EoCZELwFd"
      }
    },
    {
      "cell_type": "code",
      "source": [
        "from sklearn.metrics import accuracy_score\n",
        "\n",
        "# Predict the sentiment for the short data\n",
        "predictions = classifier(short_data)\n",
        "\n",
        "# Convert the predictions to labels\n",
        "predicted_labels = []\n",
        "for prediction in predictions:\n",
        "    predicted_label = max(prediction, key=lambda x: x['score'])['label']\n",
        "    predicted_labels.append(0 if predicted_label == 'NEGATIVE' else 1)  # Assuming 'NEGATIVE' is 0 and 'POSITIVE' is 1\n",
        "\n",
        "true_labels = dataset[\"label\"][:20]  # Get the true labels\n",
        "\n",
        "# Calculate the accuracy\n",
        "accuracy = accuracy_score(true_labels, predicted_labels)\n",
        "print(f\"Accuracy: {accuracy}\")\n",
        "\n",
        "print(true_labels)\n",
        "\n",
        "print(predicted_labels)"
      ],
      "metadata": {
        "id": "fqo-9_2kF1ME"
      },
      "execution_count": null,
      "outputs": []
    },
    {
      "cell_type": "code",
      "source": [
        "print(dataset[12500])"
      ],
      "metadata": {
        "id": "sM_rJKwkHco7"
      },
      "execution_count": null,
      "outputs": []
    },
    {
      "cell_type": "markdown",
      "source": [
        "## Define SHAP explainer"
      ],
      "metadata": {
        "id": "MpXfdidbLyt2"
      }
    },
    {
      "cell_type": "code",
      "source": [
        "# define the explainer\n",
        "explainer = shap.Explainer(classifier)"
      ],
      "metadata": {
        "id": "0Ktw4bOl-LNr"
      },
      "execution_count": null,
      "outputs": []
    },
    {
      "cell_type": "markdown",
      "source": [
        "## Explain the predictions on first 2 samples"
      ],
      "metadata": {
        "id": "zxmz1MUrL0_y"
      }
    },
    {
      "cell_type": "code",
      "source": [
        "# explain the predictions of the pipeline on the first two samples\n",
        "shap_values = explainer(short_data[:2])"
      ],
      "metadata": {
        "id": "4UFKgZA7-Mgi"
      },
      "execution_count": null,
      "outputs": []
    },
    {
      "cell_type": "markdown",
      "source": [
        "## SHAP force plot and text plot"
      ],
      "metadata": {
        "id": "kbYDLtnIPYku"
      }
    },
    {
      "cell_type": "code",
      "source": [
        "print(shap_values.shape)"
      ],
      "metadata": {
        "id": "5zLXp9zfRVDP"
      },
      "execution_count": null,
      "outputs": []
    },
    {
      "cell_type": "code",
      "source": [
        "shap.plots.text(shap_values[:, :, \"POSITIVE\"])"
      ],
      "metadata": {
        "id": "aPNrAxOg-ObO"
      },
      "execution_count": null,
      "outputs": []
    },
    {
      "cell_type": "markdown",
      "source": [
        "## Let us create a transformer pipeline wrapper"
      ],
      "metadata": {
        "id": "AF7KeERsPfaX"
      }
    },
    {
      "cell_type": "code",
      "source": [
        "pmodel = shap.models.TransformersPipeline(classifier, rescale_to_logits=False)"
      ],
      "metadata": {
        "id": "0sxFdCvz-QbK"
      },
      "execution_count": null,
      "outputs": []
    },
    {
      "cell_type": "code",
      "source": [
        "pmodel(short_data[:2])"
      ],
      "metadata": {
        "id": "X5oUocEu-Ro0"
      },
      "execution_count": null,
      "outputs": []
    },
    {
      "cell_type": "code",
      "source": [
        "pmodel = shap.models.TransformersPipeline(classifier, rescale_to_logits=True)\n",
        "pmodel(short_data[:2])"
      ],
      "metadata": {
        "id": "ktdwJhejPxBq"
      },
      "execution_count": null,
      "outputs": []
    },
    {
      "cell_type": "code",
      "source": [
        "explainer2 = shap.Explainer(pmodel)\n",
        "shap_values2 = explainer2(short_data[:2])\n",
        "shap.plots.text(shap_values2[:, :, 1])"
      ],
      "metadata": {
        "id": "lPhr_w2b-Uxi"
      },
      "execution_count": null,
      "outputs": []
    },
    {
      "cell_type": "markdown",
      "source": [
        "## Tokenizer as masker object"
      ],
      "metadata": {
        "id": "EuYtJkeORmsM"
      }
    },
    {
      "cell_type": "code",
      "source": [
        "masker = shap.maskers.Text(classifier.tokenizer)\n",
        "explainer3 = shap.Explainer(pmodel, masker)\n",
        "shap_values3 = explainer3(short_data[:2])\n",
        "shap.plots.text(shap_values3[:, :, 1])"
      ],
      "metadata": {
        "id": "2gemIxAFRqfc"
      },
      "execution_count": null,
      "outputs": []
    },
    {
      "cell_type": "markdown",
      "source": [
        "## Build a text masker"
      ],
      "metadata": {
        "id": "mOjHMrYV0SMj"
      }
    },
    {
      "cell_type": "code",
      "source": [
        "masker = shap.maskers.Text(classifier.tokenizer)\n",
        "explainer2 = shap.Explainer(pmodel, masker)\n",
        "shap_values2 = explainer2(short_data[:2])\n",
        "shap.plots.text(shap_values2[:, :, 1])"
      ],
      "metadata": {
        "id": "nxob0rcx0V20"
      },
      "execution_count": null,
      "outputs": []
    },
    {
      "cell_type": "markdown",
      "source": [
        "## Explore how the Text masker works"
      ],
      "metadata": {
        "id": "_DqUs4Q_0X3O"
      }
    },
    {
      "cell_type": "code",
      "source": [
        "masker.shape(\"I like this movie.\")"
      ],
      "metadata": {
        "id": "AXk49R810bbb"
      },
      "execution_count": null,
      "outputs": []
    },
    {
      "cell_type": "code",
      "source": [
        "model_args = masker(\n",
        "    np.array([True, True, True, True, True, True, True]), \"I like this movie.\"\n",
        ")\n",
        "model_args"
      ],
      "metadata": {
        "id": "MBkyV8OD0cxL"
      },
      "execution_count": null,
      "outputs": []
    },
    {
      "cell_type": "code",
      "source": [
        "pmodel(*model_args)"
      ],
      "metadata": {
        "id": "sksObxCX0dMB"
      },
      "execution_count": null,
      "outputs": []
    },
    {
      "cell_type": "code",
      "source": [
        "model_args = masker(\n",
        "    np.array([True, True, False, False, True, True, True]), \"I like this movie.\"\n",
        ")\n",
        "model_args"
      ],
      "metadata": {
        "id": "PN2uspe70fBv"
      },
      "execution_count": null,
      "outputs": []
    },
    {
      "cell_type": "code",
      "source": [
        "pmodel(*model_args)"
      ],
      "metadata": {
        "id": "QOR33-6s0gXT"
      },
      "execution_count": null,
      "outputs": []
    },
    {
      "cell_type": "code",
      "source": [
        "masker2 = shap.maskers.Text(\n",
        "    classifier.tokenizer, mask_token=\"...\", collapse_mask_token=True\n",
        ")"
      ],
      "metadata": {
        "id": "4MD0s9150hiw"
      },
      "execution_count": null,
      "outputs": []
    },
    {
      "cell_type": "code",
      "source": [
        "model_args2 = masker2(\n",
        "    np.array([True, True, False, False, True, True, True]), \"I like this movie.\"\n",
        ")\n",
        "model_args2"
      ],
      "metadata": {
        "id": "xLQnYiXn0jMr"
      },
      "execution_count": null,
      "outputs": []
    },
    {
      "cell_type": "code",
      "source": [
        "pmodel(*model_args2)"
      ],
      "metadata": {
        "id": "OVzWVCt10mDG"
      },
      "execution_count": null,
      "outputs": []
    },
    {
      "cell_type": "markdown",
      "source": [
        "## Plot summary statistics and bar charts"
      ],
      "metadata": {
        "id": "UdloSncW0neH"
      }
    },
    {
      "cell_type": "code",
      "source": [
        "# explain the predictions of the pipeline on the first two samples\n",
        "shap_values = explainer(short_data[:20])"
      ],
      "metadata": {
        "id": "Ao86uUqh0ocw"
      },
      "execution_count": null,
      "outputs": []
    },
    {
      "cell_type": "code",
      "source": [
        "shap.plots.bar(shap_values[0, :, \"POSITIVE\"])"
      ],
      "metadata": {
        "id": "YSj9AgMg0ppu"
      },
      "execution_count": null,
      "outputs": []
    },
    {
      "cell_type": "code",
      "source": [
        "shap.plots.bar(shap_values[:, :, \"POSITIVE\"].mean(0))"
      ],
      "metadata": {
        "id": "iAmQpsO_0qoI"
      },
      "execution_count": null,
      "outputs": []
    },
    {
      "cell_type": "code",
      "source": [
        "shap.plots.bar(shap_values[:, :, \"POSITIVE\"].mean(0), order=shap.Explanation.argsort)"
      ],
      "metadata": {
        "id": "mBLIz7Fw0sRd"
      },
      "execution_count": null,
      "outputs": []
    }
  ]
}